{
 "cells": [
  {
   "cell_type": "markdown",
   "metadata": {},
   "source": [
    "## Introduction\n",
    "\n",
    "Over the past decade, bicycle-sharing systems have been growing in number and popularity in cities across the world. Bicycle-sharing systems allow users to rent bicycles for short trips, typically 30 minutes or less. With the latest technologies, it is easy for a user of the system to access a dock within the system to unlock or return bicycles. These technologies also provide a wealth of data that can be used to explore how these bike-sharing systems are used.\n",
    "\n",
    "In this project, we will perform an exploratory analysis on data provided by Citi Bike,a bike-share system provider. \n",
    "Citi Bike is the nation's largest bike share program, with 14,500 bikes and 950 stations across Manhattan, Brooklyn, Queens and Jersey City. It was designed for quick trips with convenience in mind, and it’s a fun and affordable way to get around town."
   ]
  },
  {
   "cell_type": "markdown",
   "metadata": {},
   "source": [
    "## Posing Questions \n",
    "\n",
    "Before looking at the bike sharing data, rather any data, we should start by asking questions we might want to \n",
    "understand about the bike share data. Consider, for example, if we were working for Motivate. \n",
    "What kinds of information would we want to know about in order to make smarter business decisions? \n",
    "Also, if we are a user of the bike-share service, what factors might influence how we would want to use the service?\n",
    "\n",
    "Below are some of the questions we could ask to make some business decisions.\n",
    "\n",
    "Where do Citi Bikers ride? <br>\n",
    "When do they ride? <br>\n",
    "How far do they go? <br>\n",
    "Which stations are most popular? <br>\n",
    "What days of the week are most rides taken on? <br>"
   ]
  },
  {
   "cell_type": "markdown",
   "metadata": {},
   "source": [
    "## Data Collection and Wrangling\n",
    "\n",
    "Now it's time to collect and explore our data. In this project, we will focus on the record of individual trips taken in 2020 August from Manhattan, Brooklyn, Queens and Jersey City. The data includes the following columns \n",
    "\n",
    "Trip Duration (seconds) <br>\n",
    "Start Time and Date <br>\n",
    "Stop Time and Date <br>\n",
    "Start Station Name <br>\n",
    "End Station Name <br>\n",
    "Station ID <br>\n",
    "Station Lat/Long <br>\n",
    "Bike ID <br>\n",
    "User Type (Customer = 24-hour pass or 3-day pass user; Subscriber = Annual Member) <br>\n",
    "Gender (Zero=unknown; 1=male; 2=female) <br>\n",
    "Year of Birth <br>\n",
    "\n",
    "This data has been processed to remove trips that are taken by staff as they service and inspect the system, trips that are taken to/from any of our “test” stations (which we were using more in June and July 2013), and any trips that were below 60 seconds in length (potentially false starts or users trying to re-dock a bike to ensure it's secure)."
   ]
  },
  {
   "cell_type": "code",
   "execution_count": 2,
   "metadata": {},
   "outputs": [],
   "source": [
    "#importing the required libraries \n",
    "\n",
    "import pandas as pd\n",
    "import numpy as np\n",
    "import matplotlib.pyplot as plt\n",
    "import itertools\n",
    "\n",
    "%matplotlib inline"
   ]
  },
  {
   "cell_type": "code",
   "execution_count": 3,
   "metadata": {},
   "outputs": [
    {
     "data": {
      "text/html": [
       "<div>\n",
       "<style scoped>\n",
       "    .dataframe tbody tr th:only-of-type {\n",
       "        vertical-align: middle;\n",
       "    }\n",
       "\n",
       "    .dataframe tbody tr th {\n",
       "        vertical-align: top;\n",
       "    }\n",
       "\n",
       "    .dataframe thead th {\n",
       "        text-align: right;\n",
       "    }\n",
       "</style>\n",
       "<table border=\"1\" class=\"dataframe\">\n",
       "  <thead>\n",
       "    <tr style=\"text-align: right;\">\n",
       "      <th></th>\n",
       "      <th>tripduration</th>\n",
       "      <th>starttime</th>\n",
       "      <th>stoptime</th>\n",
       "      <th>start station id</th>\n",
       "      <th>start station name</th>\n",
       "      <th>start station latitude</th>\n",
       "      <th>start station longitude</th>\n",
       "      <th>end station id</th>\n",
       "      <th>end station name</th>\n",
       "      <th>end station latitude</th>\n",
       "      <th>end station longitude</th>\n",
       "      <th>bikeid</th>\n",
       "      <th>usertype</th>\n",
       "      <th>birth year</th>\n",
       "      <th>gender</th>\n",
       "    </tr>\n",
       "  </thead>\n",
       "  <tbody>\n",
       "    <tr>\n",
       "      <th>0</th>\n",
       "      <td>2333</td>\n",
       "      <td>2020-07-01 00:23:19.8220</td>\n",
       "      <td>2020-07-01 01:02:13.2980</td>\n",
       "      <td>3694</td>\n",
       "      <td>Jackson Square</td>\n",
       "      <td>40.711130</td>\n",
       "      <td>-74.078900</td>\n",
       "      <td>3276</td>\n",
       "      <td>Marin Light Rail</td>\n",
       "      <td>40.714584</td>\n",
       "      <td>-74.042817</td>\n",
       "      <td>42579</td>\n",
       "      <td>Customer</td>\n",
       "      <td>1969</td>\n",
       "      <td>0</td>\n",
       "    </tr>\n",
       "    <tr>\n",
       "      <th>1</th>\n",
       "      <td>1203</td>\n",
       "      <td>2020-07-01 00:27:45.2420</td>\n",
       "      <td>2020-07-01 00:47:49.1960</td>\n",
       "      <td>3791</td>\n",
       "      <td>Hoboken Ave at Monmouth St</td>\n",
       "      <td>40.735208</td>\n",
       "      <td>-74.046964</td>\n",
       "      <td>3202</td>\n",
       "      <td>Newport PATH</td>\n",
       "      <td>40.727224</td>\n",
       "      <td>-74.033759</td>\n",
       "      <td>42564</td>\n",
       "      <td>Subscriber</td>\n",
       "      <td>1965</td>\n",
       "      <td>1</td>\n",
       "    </tr>\n",
       "    <tr>\n",
       "      <th>2</th>\n",
       "      <td>786</td>\n",
       "      <td>2020-07-01 00:34:17.8680</td>\n",
       "      <td>2020-07-01 00:47:24.6310</td>\n",
       "      <td>3792</td>\n",
       "      <td>Columbus Dr at Exchange Pl</td>\n",
       "      <td>40.716870</td>\n",
       "      <td>-74.032810</td>\n",
       "      <td>3225</td>\n",
       "      <td>Baldwin at Montgomery</td>\n",
       "      <td>40.723659</td>\n",
       "      <td>-74.064194</td>\n",
       "      <td>42219</td>\n",
       "      <td>Subscriber</td>\n",
       "      <td>1994</td>\n",
       "      <td>1</td>\n",
       "    </tr>\n",
       "    <tr>\n",
       "      <th>3</th>\n",
       "      <td>1488</td>\n",
       "      <td>2020-07-01 00:51:07.5310</td>\n",
       "      <td>2020-07-01 01:15:56.0200</td>\n",
       "      <td>3677</td>\n",
       "      <td>Glenwood Ave</td>\n",
       "      <td>40.727551</td>\n",
       "      <td>-74.071061</td>\n",
       "      <td>3194</td>\n",
       "      <td>McGinley Square</td>\n",
       "      <td>40.725340</td>\n",
       "      <td>-74.067622</td>\n",
       "      <td>44424</td>\n",
       "      <td>Subscriber</td>\n",
       "      <td>1995</td>\n",
       "      <td>2</td>\n",
       "    </tr>\n",
       "    <tr>\n",
       "      <th>4</th>\n",
       "      <td>2682</td>\n",
       "      <td>2020-07-01 00:51:16.3880</td>\n",
       "      <td>2020-07-01 01:35:58.4590</td>\n",
       "      <td>3191</td>\n",
       "      <td>Union St</td>\n",
       "      <td>40.718211</td>\n",
       "      <td>-74.083639</td>\n",
       "      <td>3193</td>\n",
       "      <td>Lincoln Park</td>\n",
       "      <td>40.724605</td>\n",
       "      <td>-74.078406</td>\n",
       "      <td>42186</td>\n",
       "      <td>Subscriber</td>\n",
       "      <td>1993</td>\n",
       "      <td>1</td>\n",
       "    </tr>\n",
       "  </tbody>\n",
       "</table>\n",
       "</div>"
      ],
      "text/plain": [
       "   tripduration                 starttime                  stoptime  \\\n",
       "0          2333  2020-07-01 00:23:19.8220  2020-07-01 01:02:13.2980   \n",
       "1          1203  2020-07-01 00:27:45.2420  2020-07-01 00:47:49.1960   \n",
       "2           786  2020-07-01 00:34:17.8680  2020-07-01 00:47:24.6310   \n",
       "3          1488  2020-07-01 00:51:07.5310  2020-07-01 01:15:56.0200   \n",
       "4          2682  2020-07-01 00:51:16.3880  2020-07-01 01:35:58.4590   \n",
       "\n",
       "   start station id          start station name  start station latitude  \\\n",
       "0              3694              Jackson Square               40.711130   \n",
       "1              3791  Hoboken Ave at Monmouth St               40.735208   \n",
       "2              3792  Columbus Dr at Exchange Pl               40.716870   \n",
       "3              3677                Glenwood Ave               40.727551   \n",
       "4              3191                    Union St               40.718211   \n",
       "\n",
       "   start station longitude  end station id       end station name  \\\n",
       "0               -74.078900            3276       Marin Light Rail   \n",
       "1               -74.046964            3202           Newport PATH   \n",
       "2               -74.032810            3225  Baldwin at Montgomery   \n",
       "3               -74.071061            3194        McGinley Square   \n",
       "4               -74.083639            3193           Lincoln Park   \n",
       "\n",
       "   end station latitude  end station longitude  bikeid    usertype  \\\n",
       "0             40.714584             -74.042817   42579    Customer   \n",
       "1             40.727224             -74.033759   42564  Subscriber   \n",
       "2             40.723659             -74.064194   42219  Subscriber   \n",
       "3             40.725340             -74.067622   44424  Subscriber   \n",
       "4             40.724605             -74.078406   42186  Subscriber   \n",
       "\n",
       "   birth year  gender  \n",
       "0        1969       0  \n",
       "1        1965       1  \n",
       "2        1994       1  \n",
       "3        1995       2  \n",
       "4        1993       1  "
      ]
     },
     "execution_count": 3,
     "metadata": {},
     "output_type": "execute_result"
    }
   ],
   "source": [
    "# Reading the data in to a pandas data frame\n",
    "\n",
    "bikedata_july_2020 = pd.read_csv('nycbikedata.csv') \n",
    "bikedata_july_2019 = pd.read_csv('201907-citibike.csv') \n",
    "bikedata = pd.concat([bikedata_july_2020,bikedata_july_2019])\n",
    "bikedata.head()"
   ]
  },
  {
   "cell_type": "code",
   "execution_count": 4,
   "metadata": {},
   "outputs": [
    {
     "name": "stdout",
     "output_type": "stream",
     "text": [
      "<class 'pandas.core.frame.DataFrame'>\n",
      "Int64Index: 82426 entries, 0 to 43745\n",
      "Data columns (total 15 columns):\n",
      "tripduration               82426 non-null int64\n",
      "starttime                  82426 non-null object\n",
      "stoptime                   82426 non-null object\n",
      "start station id           82426 non-null int64\n",
      "start station name         82426 non-null object\n",
      "start station latitude     82426 non-null float64\n",
      "start station longitude    82426 non-null float64\n",
      "end station id             82426 non-null int64\n",
      "end station name           82426 non-null object\n",
      "end station latitude       82426 non-null float64\n",
      "end station longitude      82426 non-null float64\n",
      "bikeid                     82426 non-null int64\n",
      "usertype                   82426 non-null object\n",
      "birth year                 82426 non-null int64\n",
      "gender                     82426 non-null int64\n",
      "dtypes: float64(4), int64(6), object(5)\n",
      "memory usage: 10.1+ MB\n"
     ]
    }
   ],
   "source": [
    "#looking at the information of the data frame\n",
    "\n",
    "bikedata.info()"
   ]
  },
  {
   "cell_type": "code",
   "execution_count": 5,
   "metadata": {},
   "outputs": [
    {
     "data": {
      "text/html": [
       "<div>\n",
       "<style scoped>\n",
       "    .dataframe tbody tr th:only-of-type {\n",
       "        vertical-align: middle;\n",
       "    }\n",
       "\n",
       "    .dataframe tbody tr th {\n",
       "        vertical-align: top;\n",
       "    }\n",
       "\n",
       "    .dataframe thead th {\n",
       "        text-align: right;\n",
       "    }\n",
       "</style>\n",
       "<table border=\"1\" class=\"dataframe\">\n",
       "  <thead>\n",
       "    <tr style=\"text-align: right;\">\n",
       "      <th></th>\n",
       "      <th>tripduration</th>\n",
       "      <th>start station id</th>\n",
       "      <th>start station latitude</th>\n",
       "      <th>start station longitude</th>\n",
       "      <th>end station id</th>\n",
       "      <th>end station latitude</th>\n",
       "      <th>end station longitude</th>\n",
       "      <th>bikeid</th>\n",
       "      <th>birth year</th>\n",
       "      <th>gender</th>\n",
       "    </tr>\n",
       "  </thead>\n",
       "  <tbody>\n",
       "    <tr>\n",
       "      <th>count</th>\n",
       "      <td>8.242600e+04</td>\n",
       "      <td>82426.000000</td>\n",
       "      <td>82426.000000</td>\n",
       "      <td>82426.000000</td>\n",
       "      <td>82426.000000</td>\n",
       "      <td>82426.000000</td>\n",
       "      <td>82426.000000</td>\n",
       "      <td>82426.000000</td>\n",
       "      <td>82426.000000</td>\n",
       "      <td>82426.000000</td>\n",
       "    </tr>\n",
       "    <tr>\n",
       "      <th>mean</th>\n",
       "      <td>1.295278e+03</td>\n",
       "      <td>3298.960377</td>\n",
       "      <td>40.722358</td>\n",
       "      <td>-74.046678</td>\n",
       "      <td>3296.538993</td>\n",
       "      <td>40.721102</td>\n",
       "      <td>-74.044472</td>\n",
       "      <td>34635.478890</td>\n",
       "      <td>1981.386638</td>\n",
       "      <td>1.102225</td>\n",
       "    </tr>\n",
       "    <tr>\n",
       "      <th>std</th>\n",
       "      <td>1.393145e+04</td>\n",
       "      <td>178.515560</td>\n",
       "      <td>0.007280</td>\n",
       "      <td>0.011650</td>\n",
       "      <td>186.988409</td>\n",
       "      <td>0.200721</td>\n",
       "      <td>0.364926</td>\n",
       "      <td>7582.152805</td>\n",
       "      <td>10.706544</td>\n",
       "      <td>0.605391</td>\n",
       "    </tr>\n",
       "    <tr>\n",
       "      <th>min</th>\n",
       "      <td>6.100000e+01</td>\n",
       "      <td>3184.000000</td>\n",
       "      <td>40.709651</td>\n",
       "      <td>-74.083639</td>\n",
       "      <td>173.000000</td>\n",
       "      <td>0.000000</td>\n",
       "      <td>-74.083639</td>\n",
       "      <td>14607.000000</td>\n",
       "      <td>1888.000000</td>\n",
       "      <td>0.000000</td>\n",
       "    </tr>\n",
       "    <tr>\n",
       "      <th>25%</th>\n",
       "      <td>2.850000e+02</td>\n",
       "      <td>3195.000000</td>\n",
       "      <td>40.716870</td>\n",
       "      <td>-74.050990</td>\n",
       "      <td>3193.000000</td>\n",
       "      <td>40.716870</td>\n",
       "      <td>-74.050656</td>\n",
       "      <td>29247.000000</td>\n",
       "      <td>1971.000000</td>\n",
       "      <td>1.000000</td>\n",
       "    </tr>\n",
       "    <tr>\n",
       "      <th>50%</th>\n",
       "      <td>5.090000e+02</td>\n",
       "      <td>3209.000000</td>\n",
       "      <td>40.721525</td>\n",
       "      <td>-74.043991</td>\n",
       "      <td>3207.000000</td>\n",
       "      <td>40.721124</td>\n",
       "      <td>-74.043845</td>\n",
       "      <td>29624.000000</td>\n",
       "      <td>1984.000000</td>\n",
       "      <td>1.000000</td>\n",
       "    </tr>\n",
       "    <tr>\n",
       "      <th>75%</th>\n",
       "      <td>1.112000e+03</td>\n",
       "      <td>3276.000000</td>\n",
       "      <td>40.727224</td>\n",
       "      <td>-74.038051</td>\n",
       "      <td>3276.000000</td>\n",
       "      <td>40.727224</td>\n",
       "      <td>-74.038051</td>\n",
       "      <td>42423.000000</td>\n",
       "      <td>1990.000000</td>\n",
       "      <td>1.000000</td>\n",
       "    </tr>\n",
       "    <tr>\n",
       "      <th>max</th>\n",
       "      <td>2.423337e+06</td>\n",
       "      <td>3792.000000</td>\n",
       "      <td>40.748716</td>\n",
       "      <td>-74.032108</td>\n",
       "      <td>3992.000000</td>\n",
       "      <td>40.842842</td>\n",
       "      <td>0.000000</td>\n",
       "      <td>45647.000000</td>\n",
       "      <td>2004.000000</td>\n",
       "      <td>2.000000</td>\n",
       "    </tr>\n",
       "  </tbody>\n",
       "</table>\n",
       "</div>"
      ],
      "text/plain": [
       "       tripduration  start station id  start station latitude  \\\n",
       "count  8.242600e+04      82426.000000            82426.000000   \n",
       "mean   1.295278e+03       3298.960377               40.722358   \n",
       "std    1.393145e+04        178.515560                0.007280   \n",
       "min    6.100000e+01       3184.000000               40.709651   \n",
       "25%    2.850000e+02       3195.000000               40.716870   \n",
       "50%    5.090000e+02       3209.000000               40.721525   \n",
       "75%    1.112000e+03       3276.000000               40.727224   \n",
       "max    2.423337e+06       3792.000000               40.748716   \n",
       "\n",
       "       start station longitude  end station id  end station latitude  \\\n",
       "count             82426.000000    82426.000000          82426.000000   \n",
       "mean                -74.046678     3296.538993             40.721102   \n",
       "std                   0.011650      186.988409              0.200721   \n",
       "min                 -74.083639      173.000000              0.000000   \n",
       "25%                 -74.050990     3193.000000             40.716870   \n",
       "50%                 -74.043991     3207.000000             40.721124   \n",
       "75%                 -74.038051     3276.000000             40.727224   \n",
       "max                 -74.032108     3992.000000             40.842842   \n",
       "\n",
       "       end station longitude        bikeid    birth year        gender  \n",
       "count           82426.000000  82426.000000  82426.000000  82426.000000  \n",
       "mean              -74.044472  34635.478890   1981.386638      1.102225  \n",
       "std                 0.364926   7582.152805     10.706544      0.605391  \n",
       "min               -74.083639  14607.000000   1888.000000      0.000000  \n",
       "25%               -74.050656  29247.000000   1971.000000      1.000000  \n",
       "50%               -74.043845  29624.000000   1984.000000      1.000000  \n",
       "75%               -74.038051  42423.000000   1990.000000      1.000000  \n",
       "max                 0.000000  45647.000000   2004.000000      2.000000  "
      ]
     },
     "execution_count": 5,
     "metadata": {},
     "output_type": "execute_result"
    }
   ],
   "source": [
    "#looking at the stats\n",
    "\n",
    "bikedata.describe()\n"
   ]
  },
  {
   "cell_type": "markdown",
   "metadata": {},
   "source": [
    "## Preprocess\n",
    "\n",
    "There might be some missing data in the data set,like strange stations or null values ."
   ]
  },
  {
   "cell_type": "code",
   "execution_count": 6,
   "metadata": {},
   "outputs": [
    {
     "name": "stdout",
     "output_type": "stream",
     "text": [
      "There are 82426 rows and 15 columns in the data frame\n"
     ]
    }
   ],
   "source": [
    "(rows,columns) = bikedata.shape\n",
    "\n",
    "print('There are {} rows and {} columns in the data frame'.format(rows,columns))"
   ]
  },
  {
   "cell_type": "code",
   "execution_count": 7,
   "metadata": {},
   "outputs": [
    {
     "data": {
      "text/plain": [
       "tripduration               0\n",
       "starttime                  0\n",
       "stoptime                   0\n",
       "start station id           0\n",
       "start station name         0\n",
       "start station latitude     0\n",
       "start station longitude    0\n",
       "end station id             0\n",
       "end station name           0\n",
       "end station latitude       0\n",
       "end station longitude      0\n",
       "bikeid                     0\n",
       "usertype                   0\n",
       "birth year                 0\n",
       "gender                     0\n",
       "dtype: int64"
      ]
     },
     "execution_count": 7,
     "metadata": {},
     "output_type": "execute_result"
    }
   ],
   "source": [
    "#Looking at the nulls value counts in the dataframe\n",
    "\n",
    "bikedata.isnull().sum()"
   ]
  },
  {
   "cell_type": "markdown",
   "metadata": {},
   "source": [
    "The data looks to be clean so far with out any null values . Lets look to find any strange data "
   ]
  },
  {
   "cell_type": "code",
   "execution_count": 8,
   "metadata": {},
   "outputs": [],
   "source": [
    "#any trips that were below 60 seconds in length (potentially false starts or users trying to re-dock a bike to ensure it's secure).\n",
    "#Lets delete all the trips below 60 seconds\n",
    "\n",
    "bikedata.drop(bikedata[bikedata['tripduration'] < 60].index, inplace = True)"
   ]
  },
  {
   "cell_type": "code",
   "execution_count": 9,
   "metadata": {},
   "outputs": [
    {
     "data": {
      "text/plain": [
       "40388.95"
      ]
     },
     "execution_count": 9,
     "metadata": {},
     "output_type": "execute_result"
    }
   ],
   "source": [
    "bikedata['tripduration'].max()/60"
   ]
  },
  {
   "cell_type": "code",
   "execution_count": 10,
   "metadata": {},
   "outputs": [
    {
     "data": {
      "text/plain": [
       "<matplotlib.axes._subplots.AxesSubplot at 0x10a4fd9e8>"
      ]
     },
     "execution_count": 10,
     "metadata": {},
     "output_type": "execute_result"
    },
    {
     "data": {
      "image/png": "[encoded data removed]",
      "text/plain": [
       "<Figure size 432x288 with 1 Axes>"
      ]
     },
     "metadata": {
      "needs_background": "light"
     },
     "output_type": "display_data"
    }
   ],
   "source": [
    "bikedata['tripduration'].plot.hist(bins = 4)"
   ]
  },
  {
   "cell_type": "code",
   "execution_count": 11,
   "metadata": {},
   "outputs": [
    {
     "data": {
      "image/png": "[encoded data removed]",
      "text/plain": [
       "<Figure size 1440x720 with 12 Axes>"
      ]
     },
     "metadata": {
      "needs_background": "light"
     },
     "output_type": "display_data"
    }
   ],
   "source": [
    "#Plotting the histogram to look at irregularities\n",
    "\n",
    "bikedata.hist(bins=5, grid=False, figsize=(20,10), color='#86bf91',layout = (6,2))\n",
    "plt.tight_layout()"
   ]
  },
  {
   "cell_type": "code",
   "execution_count": 12,
   "metadata": {},
   "outputs": [],
   "source": [
    "#creating a collection of unique start and end stations data frame\n",
    "\n",
    "start_station_details = bikedata[['start station id', 'start station name', 'start station latitude', 'start station longitude']] \\\n",
    "            .drop_duplicates().rename(columns = {'start station id':'station id', \\\n",
    "                                                 'start station name':'station name', \\\n",
    "                                                 'start station latitude':'station latitude', \n",
    "                                                 'start station longitude': 'station longitude'})\n",
    "end_station_details = bikedata[['end station id', 'end station name', 'end station latitude', 'end station longitude']] \\\n",
    "        .drop_duplicates().rename(columns = {'end station id':'station id', \\\n",
    "                                             'end station name':'station name', \\\n",
    "                                             'end station latitude':'station latitude', \\\n",
    "                                             'end station longitude': 'station longitude'})\n",
    "bikedata_loc = pd.concat([start_station_details, end_station_details]).drop_duplicates()"
   ]
  },
  {
   "cell_type": "markdown",
   "metadata": {},
   "source": [
    "Lets add some details about what generation used subscriber belongs to"
   ]
  },
  {
   "cell_type": "code",
   "execution_count": 13,
   "metadata": {},
   "outputs": [],
   "source": [
    "\n",
    "\n",
    "def birthyear_to_generation(row):\n",
    "    \n",
    "    \"\"\"The following function categorize the given birth year in to a right generation bucket\n",
    "    Input : Row\n",
    "    Output: Category\n",
    "    \"\"\"\n",
    "    \n",
    "    if row['birth year'] >= 1946 and  row['birth year'] <= 1964:\n",
    "        return 'Baby Boomers'\n",
    "    elif row['birth year'] >= 1965 and  row['birth year'] < 1980:\n",
    "        return 'Gen X' \n",
    "    elif row['birth year'] >= 1980 and  row['birth year'] <= 1994:\n",
    "         return 'Gen Y'\n",
    "    elif row['birth year'] >= 1995 and  row['birth year'] < 2015:\n",
    "         return 'Gen Z'\n",
    "    else:\n",
    "        return 'other'\n",
    "    \n",
    "bikedata['Age Category'] = bikedata.apply(birthyear_to_generation , axis = 1)"
   ]
  },
  {
   "cell_type": "code",
   "execution_count": 14,
   "metadata": {},
   "outputs": [
    {
     "data": {
      "text/plain": [
       "Gen Y           46018\n",
       "Gen X           25414\n",
       "Gen Z            5925\n",
       "Baby Boomers     5017\n",
       "other              52\n",
       "Name: Age Category, dtype: int64"
      ]
     },
     "execution_count": 14,
     "metadata": {},
     "output_type": "execute_result"
    }
   ],
   "source": [
    "bikedata['Age Category'].value_counts()"
   ]
  },
  {
   "cell_type": "code",
   "execution_count": 15,
   "metadata": {},
   "outputs": [
    {
     "name": "stdout",
     "output_type": "stream",
     "text": [
      "<class 'pandas.core.frame.DataFrame'>\n",
      "Int64Index: 82426 entries, 0 to 43745\n",
      "Data columns (total 16 columns):\n",
      "tripduration               82426 non-null int64\n",
      "starttime                  82426 non-null datetime64[ns]\n",
      "stoptime                   82426 non-null datetime64[ns]\n",
      "start station id           82426 non-null int64\n",
      "start station name         82426 non-null object\n",
      "start station latitude     82426 non-null float64\n",
      "start station longitude    82426 non-null float64\n",
      "end station id             82426 non-null int64\n",
      "end station name           82426 non-null object\n",
      "end station latitude       82426 non-null float64\n",
      "end station longitude      82426 non-null float64\n",
      "bikeid                     82426 non-null int64\n",
      "usertype                   82426 non-null object\n",
      "birth year                 82426 non-null int64\n",
      "gender                     82426 non-null int64\n",
      "Age Category               82426 non-null object\n",
      "dtypes: datetime64[ns](2), float64(4), int64(6), object(4)\n",
      "memory usage: 10.7+ MB\n"
     ]
    }
   ],
   "source": [
    "#Converting the data types of the start and stop time to a date time format \n",
    "\n",
    "bikedata['starttime'] = pd.to_datetime(bikedata['starttime'], format='%Y-%m-%d %H:%M:%S')\n",
    "bikedata['stoptime'] =pd.to_datetime(bikedata['stoptime'], format='%Y-%m-%d %H:%M:%S')\n",
    "bikedata.info()"
   ]
  },
  {
   "cell_type": "code",
   "execution_count": 16,
   "metadata": {},
   "outputs": [],
   "source": [
    "#Adding the year column in to the data frame for future analysis\n",
    "\n",
    "bikedata['Year'] = bikedata['starttime'].dt.year"
   ]
  },
  {
   "cell_type": "code",
   "execution_count": 17,
   "metadata": {},
   "outputs": [
    {
     "data": {
      "text/html": [
       "<div>\n",
       "<style scoped>\n",
       "    .dataframe tbody tr th:only-of-type {\n",
       "        vertical-align: middle;\n",
       "    }\n",
       "\n",
       "    .dataframe tbody tr th {\n",
       "        vertical-align: top;\n",
       "    }\n",
       "\n",
       "    .dataframe thead th {\n",
       "        text-align: right;\n",
       "    }\n",
       "</style>\n",
       "<table border=\"1\" class=\"dataframe\">\n",
       "  <thead>\n",
       "    <tr style=\"text-align: right;\">\n",
       "      <th></th>\n",
       "      <th>start station id</th>\n",
       "      <th>starttime</th>\n",
       "      <th>start_segment</th>\n",
       "      <th>end station id</th>\n",
       "      <th>stoptime</th>\n",
       "      <th>stop_segment</th>\n",
       "    </tr>\n",
       "  </thead>\n",
       "  <tbody>\n",
       "    <tr>\n",
       "      <th>0</th>\n",
       "      <td>3694</td>\n",
       "      <td>2020-07-01 00:23:19.822</td>\n",
       "      <td>2020-7-1 0:00</td>\n",
       "      <td>3276</td>\n",
       "      <td>2020-07-01 01:02:13.298</td>\n",
       "      <td>2020-7-1 1:00</td>\n",
       "    </tr>\n",
       "    <tr>\n",
       "      <th>1</th>\n",
       "      <td>3791</td>\n",
       "      <td>2020-07-01 00:27:45.242</td>\n",
       "      <td>2020-7-1 0:00</td>\n",
       "      <td>3202</td>\n",
       "      <td>2020-07-01 00:47:49.196</td>\n",
       "      <td>2020-7-1 0:30</td>\n",
       "    </tr>\n",
       "    <tr>\n",
       "      <th>2</th>\n",
       "      <td>3792</td>\n",
       "      <td>2020-07-01 00:34:17.868</td>\n",
       "      <td>2020-7-1 0:30</td>\n",
       "      <td>3225</td>\n",
       "      <td>2020-07-01 00:47:24.631</td>\n",
       "      <td>2020-7-1 0:30</td>\n",
       "    </tr>\n",
       "    <tr>\n",
       "      <th>3</th>\n",
       "      <td>3677</td>\n",
       "      <td>2020-07-01 00:51:07.531</td>\n",
       "      <td>2020-7-1 0:30</td>\n",
       "      <td>3194</td>\n",
       "      <td>2020-07-01 01:15:56.020</td>\n",
       "      <td>2020-7-1 1:00</td>\n",
       "    </tr>\n",
       "    <tr>\n",
       "      <th>4</th>\n",
       "      <td>3191</td>\n",
       "      <td>2020-07-01 00:51:16.388</td>\n",
       "      <td>2020-7-1 0:30</td>\n",
       "      <td>3193</td>\n",
       "      <td>2020-07-01 01:35:58.459</td>\n",
       "      <td>2020-7-1 1:30</td>\n",
       "    </tr>\n",
       "  </tbody>\n",
       "</table>\n",
       "</div>"
      ],
      "text/plain": [
       "   start station id               starttime  start_segment  end station id  \\\n",
       "0              3694 2020-07-01 00:23:19.822  2020-7-1 0:00            3276   \n",
       "1              3791 2020-07-01 00:27:45.242  2020-7-1 0:00            3202   \n",
       "2              3792 2020-07-01 00:34:17.868  2020-7-1 0:30            3225   \n",
       "3              3677 2020-07-01 00:51:07.531  2020-7-1 0:30            3194   \n",
       "4              3191 2020-07-01 00:51:16.388  2020-7-1 0:30            3193   \n",
       "\n",
       "                 stoptime   stop_segment  \n",
       "0 2020-07-01 01:02:13.298  2020-7-1 1:00  \n",
       "1 2020-07-01 00:47:49.196  2020-7-1 0:30  \n",
       "2 2020-07-01 00:47:24.631  2020-7-1 0:30  \n",
       "3 2020-07-01 01:15:56.020  2020-7-1 1:00  \n",
       "4 2020-07-01 01:35:58.459  2020-7-1 1:30  "
      ]
     },
     "execution_count": 17,
     "metadata": {},
     "output_type": "execute_result"
    }
   ],
   "source": [
    "def gen_time_segment(dt):\n",
    "    \"\"\"\n",
    "    The fucntion takes a date time input and outputs it in to minutes buckets.\n",
    "    Input :Datetime\n",
    "    Output: Datetime with just minute\n",
    "    \"\"\"\n",
    "    if dt.minute < 30:\n",
    "        minute = \"%02d\" % 0\n",
    "    else:\n",
    "        minute = \"%02d\" % 30\n",
    "    return \"{}-{}-{} {}:{}\".format(dt.year, dt.month, dt.day, dt.hour, minute)\n",
    "\n",
    "bikedata['start_segment'] = [gen_time_segment(dt) for dt in bikedata['starttime']]\n",
    "bikedata['stop_segment'] = [gen_time_segment(dt) for dt in bikedata['stoptime']]\n",
    "\n",
    "bikedata[['start station id', 'starttime', 'start_segment', 'end station id', 'stoptime', 'stop_segment']].head()"
   ]
  },
  {
   "cell_type": "code",
   "execution_count": 18,
   "metadata": {},
   "outputs": [],
   "source": [
    "inflow = bikedata[['end station id', 'stop_segment']] \\\n",
    "            .groupby(['end station id', 'stop_segment']) \\\n",
    "            .size().reset_index(name='counts') \\\n",
    "            .rename(columns={'end station id':'station id','stop_segment':'time', 'counts':'in_flow_count'})"
   ]
  },
  {
   "cell_type": "code",
   "execution_count": 19,
   "metadata": {},
   "outputs": [],
   "source": [
    "outflow = bikedata[['start station id', 'start_segment']] \\\n",
    "            .groupby(['start station id', 'start_segment']) \\\n",
    "            .size().reset_index(name='counts') \\\n",
    "            .rename(columns={'start station id':'station id','start_segment':'time', 'counts':'out_flow_count'})"
   ]
  },
  {
   "cell_type": "code",
   "execution_count": 20,
   "metadata": {},
   "outputs": [
    {
     "data": {
      "text/html": [
       "<div>\n",
       "<style scoped>\n",
       "    .dataframe tbody tr th:only-of-type {\n",
       "        vertical-align: middle;\n",
       "    }\n",
       "\n",
       "    .dataframe tbody tr th {\n",
       "        vertical-align: top;\n",
       "    }\n",
       "\n",
       "    .dataframe thead th {\n",
       "        text-align: right;\n",
       "    }\n",
       "</style>\n",
       "<table border=\"1\" class=\"dataframe\">\n",
       "  <thead>\n",
       "    <tr style=\"text-align: right;\">\n",
       "      <th></th>\n",
       "      <th>station id</th>\n",
       "      <th>time</th>\n",
       "      <th>in_flow_count</th>\n",
       "    </tr>\n",
       "  </thead>\n",
       "  <tbody>\n",
       "    <tr>\n",
       "      <th>0</th>\n",
       "      <td>173</td>\n",
       "      <td>2020-7-15 8:30</td>\n",
       "      <td>1</td>\n",
       "    </tr>\n",
       "    <tr>\n",
       "      <th>1</th>\n",
       "      <td>173</td>\n",
       "      <td>2020-7-16 8:00</td>\n",
       "      <td>1</td>\n",
       "    </tr>\n",
       "    <tr>\n",
       "      <th>2</th>\n",
       "      <td>173</td>\n",
       "      <td>2020-7-21 8:00</td>\n",
       "      <td>1</td>\n",
       "    </tr>\n",
       "    <tr>\n",
       "      <th>3</th>\n",
       "      <td>173</td>\n",
       "      <td>2020-7-23 8:00</td>\n",
       "      <td>1</td>\n",
       "    </tr>\n",
       "    <tr>\n",
       "      <th>4</th>\n",
       "      <td>173</td>\n",
       "      <td>2020-7-7 8:00</td>\n",
       "      <td>1</td>\n",
       "    </tr>\n",
       "  </tbody>\n",
       "</table>\n",
       "</div>"
      ],
      "text/plain": [
       "   station id            time  in_flow_count\n",
       "0         173  2020-7-15 8:30              1\n",
       "1         173  2020-7-16 8:00              1\n",
       "2         173  2020-7-21 8:00              1\n",
       "3         173  2020-7-23 8:00              1\n",
       "4         173   2020-7-7 8:00              1"
      ]
     },
     "execution_count": 20,
     "metadata": {},
     "output_type": "execute_result"
    }
   ],
   "source": [
    "#bikedata.head()\n",
    "inflow.head()"
   ]
  },
  {
   "cell_type": "code",
   "execution_count": 21,
   "metadata": {},
   "outputs": [],
   "source": [
    "#creating a list of stations Ids\n",
    "\n",
    "station_id_list = list(bikedata_loc['station id'])"
   ]
  },
  {
   "cell_type": "code",
   "execution_count": 22,
   "metadata": {},
   "outputs": [
    {
     "data": {
      "text/html": [
       "<div>\n",
       "<style scoped>\n",
       "    .dataframe tbody tr th:only-of-type {\n",
       "        vertical-align: middle;\n",
       "    }\n",
       "\n",
       "    .dataframe tbody tr th {\n",
       "        vertical-align: top;\n",
       "    }\n",
       "\n",
       "    .dataframe thead th {\n",
       "        text-align: right;\n",
       "    }\n",
       "</style>\n",
       "<table border=\"1\" class=\"dataframe\">\n",
       "  <thead>\n",
       "    <tr style=\"text-align: right;\">\n",
       "      <th></th>\n",
       "      <th>station id</th>\n",
       "      <th>time</th>\n",
       "      <th>in_flow_count</th>\n",
       "      <th>out_flow_count</th>\n",
       "    </tr>\n",
       "  </thead>\n",
       "  <tbody>\n",
       "    <tr>\n",
       "      <th>0</th>\n",
       "      <td>173</td>\n",
       "      <td>2020-07-15 08:30:00</td>\n",
       "      <td>1.0</td>\n",
       "      <td>0.0</td>\n",
       "    </tr>\n",
       "    <tr>\n",
       "      <th>1</th>\n",
       "      <td>173</td>\n",
       "      <td>2020-07-16 08:00:00</td>\n",
       "      <td>1.0</td>\n",
       "      <td>0.0</td>\n",
       "    </tr>\n",
       "    <tr>\n",
       "      <th>2</th>\n",
       "      <td>173</td>\n",
       "      <td>2020-07-21 08:00:00</td>\n",
       "      <td>1.0</td>\n",
       "      <td>0.0</td>\n",
       "    </tr>\n",
       "    <tr>\n",
       "      <th>3</th>\n",
       "      <td>173</td>\n",
       "      <td>2020-07-23 08:00:00</td>\n",
       "      <td>1.0</td>\n",
       "      <td>0.0</td>\n",
       "    </tr>\n",
       "    <tr>\n",
       "      <th>4</th>\n",
       "      <td>173</td>\n",
       "      <td>2020-07-07 08:00:00</td>\n",
       "      <td>1.0</td>\n",
       "      <td>0.0</td>\n",
       "    </tr>\n",
       "  </tbody>\n",
       "</table>\n",
       "</div>"
      ],
      "text/plain": [
       "   station id                time  in_flow_count  out_flow_count\n",
       "0         173 2020-07-15 08:30:00            1.0             0.0\n",
       "1         173 2020-07-16 08:00:00            1.0             0.0\n",
       "2         173 2020-07-21 08:00:00            1.0             0.0\n",
       "3         173 2020-07-23 08:00:00            1.0             0.0\n",
       "4         173 2020-07-07 08:00:00            1.0             0.0"
      ]
     },
     "execution_count": 22,
     "metadata": {},
     "output_type": "execute_result"
    }
   ],
   "source": [
    "# Create combinations of time series and station ids\n",
    "time_seg_list = list(pd.date_range(\"2020-07-01 00:00:00\", \"2020-07-31 23:30:00\", freq=\"30min\"))\n",
    "template = pd.DataFrame(list(itertools.product(station_id_list, time_seg_list)), \\\n",
    "                        columns=[\"station id\", \"time\"])\n",
    "\n",
    "# Merge in/out flow information & Add zeros to missing data according to every time segment\n",
    "dat = pd.merge(inflow, outflow, on=['station id', 'time'], how='outer')\n",
    "dat['time'] = pd.to_datetime(dat['time'], format='%Y-%m-%d %H:%M')\n",
    "dat = dat.merge(template, on=[\"station id\", \"time\"], how=\"right\").fillna(0)\n",
    "dat.head()"
   ]
  },
  {
   "cell_type": "code",
   "execution_count": 23,
   "metadata": {},
   "outputs": [
    {
     "data": {
      "text/plain": [
       "(120528, 4)"
      ]
     },
     "execution_count": 23,
     "metadata": {},
     "output_type": "execute_result"
    }
   ],
   "source": [
    "dat.shape"
   ]
  },
  {
   "cell_type": "code",
   "execution_count": 43,
   "metadata": {},
   "outputs": [
    {
     "data": {
      "image/png": "[encoded data removed]",
      "text/plain": [
       "<Figure size 432x288 with 1 Axes>"
      ]
     },
     "metadata": {
      "needs_background": "light"
     },
     "output_type": "display_data"
    }
   ],
   "source": [
    "#Total number of trips \n",
    "\n",
    "bikedata.groupby(['Year']).size().plot.bar()\n",
    "plt.title('No of Rides')\n",
    "plt.ylabel('Rides')\n",
    "plt.show()"
   ]
  },
  {
   "cell_type": "markdown",
   "metadata": {},
   "source": [
    "## Lets answers some questions\n",
    "\n",
    "1 - What generation is popular in renting the bikes ? Is it younger or older generation that is using the bike rental service ? Was there any change due to COVID ? "
   ]
  },
  {
   "cell_type": "code",
   "execution_count": 27,
   "metadata": {},
   "outputs": [
    {
     "data": {
      "text/plain": [
       "Gen Y           46018\n",
       "Gen X           25414\n",
       "Gen Z            5925\n",
       "Baby Boomers     5017\n",
       "other              52\n",
       "Name: Age Category, dtype: int64"
      ]
     },
     "execution_count": 27,
     "metadata": {},
     "output_type": "execute_result"
    }
   ],
   "source": [
    "bikedata['Age Category'].value_counts()"
   ]
  },
  {
   "cell_type": "code",
   "execution_count": 28,
   "metadata": {},
   "outputs": [
    {
     "data": {
      "text/plain": [
       "Text(11.625, 0.5, 'Counts')"
      ]
     },
     "execution_count": 28,
     "metadata": {},
     "output_type": "execute_result"
    },
    {
     "data": {
      "image/png": "[encoded data removed]",
      "text/plain": [
       "<Figure size 432x288 with 1 Axes>"
      ]
     },
     "metadata": {
      "needs_background": "light"
     },
     "output_type": "display_data"
    }
   ],
   "source": [
    "bikedata['Age Category'].value_counts().plot.bar()\n",
    "plt.tight_layout()\n",
    "plt.title('Generation Counts')\n",
    "plt.xlabel('Generation')\n",
    "plt.ylabel('Counts')"
   ]
  },
  {
   "cell_type": "code",
   "execution_count": 67,
   "metadata": {},
   "outputs": [
    {
     "data": {
      "text/plain": [
       "<matplotlib.axes._subplots.AxesSubplot at 0x123ef53c8>"
      ]
     },
     "execution_count": 67,
     "metadata": {},
     "output_type": "execute_result"
    },
    {
     "data": {
      "image/png": "[encoded data removed]",
      "text/plain": [
       "<Figure size 432x288 with 1 Axes>"
      ]
     },
     "metadata": {
      "needs_background": "light"
     },
     "output_type": "display_data"
    }
   ],
   "source": [
    "bikedata.groupby(['Year','Age Category']).size().unstack().plot.bar(stacked=True)"
   ]
  },
  {
   "cell_type": "code",
   "execution_count": 71,
   "metadata": {},
   "outputs": [
    {
     "data": {
      "image/png": "[encoded data removed]",
      "text/plain": [
       "<Figure size 432x288 with 2 Axes>"
      ]
     },
     "metadata": {
      "needs_background": "light"
     },
     "output_type": "display_data"
    }
   ],
   "source": [
    "fig = plt.figure() # Create matplotlib figure\n",
    "\n",
    "ax = fig.add_subplot(111) # Create matplotlib axes\n",
    "ax2 = ax.twinx() # Create another axes that shares the same x-axis as ax.\n",
    "\n",
    "width = 0.4\n",
    "\n",
    "#bikedata.groupby(['Age Category','Year']).size().plot.bar(x = 'Year',y = 'Age Category',stacked=True)\n",
    "bikedata[bikedata['Year'] == 2020 ]['Age Category'].value_counts().plot(kind='bar', color='red', ax=ax, width=width, position=1)\n",
    "bikedata[bikedata['Year'] == 2019 ]['Age Category'].value_counts().plot(kind='bar', color='blue', ax=ax2, width=width, position=0)\n",
    "plt.title('Generation ')\n",
    "#ax.legend(['2020'])\n",
    "#ax2.legend(['2019'])\n",
    "plt.show()"
   ]
  },
  {
   "cell_type": "markdown",
   "metadata": {},
   "source": [
    "2. What percentage of the customers are subscribes ? How long do subscribes typically rent the bike for ?"
   ]
  },
  {
   "cell_type": "code",
   "execution_count": 30,
   "metadata": {},
   "outputs": [
    {
     "data": {
      "text/plain": [
       "Text(11.625, 0.5, 'Counts')"
      ]
     },
     "execution_count": 30,
     "metadata": {},
     "output_type": "execute_result"
    },
    {
     "data": {
      "image/png": "[encoded data removed]",
      "text/plain": [
       "<Figure size 432x288 with 1 Axes>"
      ]
     },
     "metadata": {
      "needs_background": "light"
     },
     "output_type": "display_data"
    }
   ],
   "source": [
    "bikedata['usertype'].value_counts().plot.bar()\n",
    "plt.tight_layout()\n",
    "plt.title('Subscription Types')\n",
    "plt.xlabel('Subscription')\n",
    "plt.ylabel('Counts')"
   ]
  },
  {
   "cell_type": "code",
   "execution_count": 31,
   "metadata": {},
   "outputs": [
    {
     "name": "stdout",
     "output_type": "stream",
     "text": [
      "The percentage of subscribers is 73.71 %\n"
     ]
    }
   ],
   "source": [
    "user_type_count = bikedata['usertype'].value_counts()\n",
    "total_count = bikedata['usertype'].count()\n",
    "percentage = (user_type_count['Subscriber']/total_count) * 100\n",
    "print('The percentage of subscribers is {:.2f} %'.format(percentage))"
   ]
  },
  {
   "cell_type": "code",
   "execution_count": 32,
   "metadata": {},
   "outputs": [
    {
     "name": "stdout",
     "output_type": "stream",
     "text": [
      "The average bike rental time(mins) of subscriber is 11.92\n",
      "The average bike rental time(mins) of customer is 48.70\n"
     ]
    }
   ],
   "source": [
    "mean_time_of_subscribers = bikedata[bikedata['usertype'] == 'Subscriber']['tripduration'].mean()\n",
    "mean_time_of_customer = bikedata[bikedata['usertype'] == 'Customer']['tripduration'].mean()\n",
    "\n",
    "print('The average bike rental time(mins) of subscriber is {:.2f}'.format(mean_time_of_subscribers/60))\n",
    "print('The average bike rental time(mins) of customer is {:.2f}'.format(mean_time_of_customer/60))"
   ]
  },
  {
   "cell_type": "markdown",
   "metadata": {},
   "source": [
    "3 - Did COVID had any effect on the average time the people rented the bike for ?"
   ]
  },
  {
   "cell_type": "code",
   "execution_count": 33,
   "metadata": {},
   "outputs": [
    {
     "name": "stdout",
     "output_type": "stream",
     "text": [
      "The average bike rental time(mins) of subscriber in 2019 is 9.04\n",
      "The average bike rental time(mins) of customer in 2019 is 40.51\n",
      "The average bike rental time(mins) of subscriber in 2020 is 16.56\n",
      "The average bike rental time(mins) of customer in 2020 is 52.02\n"
     ]
    }
   ],
   "source": [
    "mean_time_of_subscribers_2019 = bikedata[(bikedata['usertype'] == 'Subscriber') & (bikedata['Year'] == 2019)]['tripduration'].mean()\n",
    "mean_time_of_customer_2019 = bikedata[(bikedata['usertype'] == 'Customer') & (bikedata['Year'] == 2019)]['tripduration'].mean()\n",
    "\n",
    "\n",
    "print('The average bike rental time(mins) of subscriber in 2019 is {:.2f}'.format(mean_time_of_subscribers_2019/60))\n",
    "print('The average bike rental time(mins) of customer in 2019 is {:.2f}'.format(mean_time_of_customer_2019/60))\n",
    "\n",
    "mean_time_of_subscribers_2020 = bikedata[(bikedata['usertype'] == 'Subscriber') & (bikedata['Year'] == 2020)]['tripduration'].mean()\n",
    "mean_time_of_customer_2020 = bikedata[(bikedata['usertype'] == 'Customer') & (bikedata['Year'] == 2020)]['tripduration'].mean()\n",
    "\n",
    "print('The average bike rental time(mins) of subscriber in 2020 is {:.2f}'.format(mean_time_of_subscribers_2020/60))\n",
    "print('The average bike rental time(mins) of customer in 2020 is {:.2f}'.format(mean_time_of_customer_2020/60))"
   ]
  },
  {
   "cell_type": "code",
   "execution_count": 34,
   "metadata": {},
   "outputs": [
    {
     "name": "stdout",
     "output_type": "stream",
     "text": [
      "The top 3 frequent stations pairs in weekdays are: (3203, 3186), (3192, 3192), and (3186, 3203).\n",
      "The top 3 frequent stations pairs in weekends are: (3192, 3192), (3199, 3199), and (3276, 3276).\n"
     ]
    }
   ],
   "source": [
    "# Split the dataframe into weekdays information & weekends information\n",
    "df_weekdays = bikedata[bikedata['starttime'].dt.dayofweek < 5]\n",
    "df_weekends = bikedata[bikedata['starttime'].dt.dayofweek >= 5]\n",
    "\n",
    "# Count and sort station pair frequencies\n",
    "stn_pair_weekdays = df_weekdays[['start station id', 'end station id']] \\\n",
    "                    .groupby(['start station id', 'end station id']) \\\n",
    "                    .size().reset_index(name='counts') \\\n",
    "                    .set_index(['start station id', 'end station id']) \\\n",
    "                    .sort_values(by='counts', ascending=False)\n",
    "stn_pair_weekends = df_weekends[['start station id', 'end station id']] \\\n",
    "                    .groupby(['start station id', 'end station id']) \\\n",
    "                    .size().reset_index(name='counts') \\\n",
    "                    .set_index(['start station id', 'end station id']) \\\n",
    "                    .sort_values(by='counts', ascending=False)\n",
    "            \n",
    "# Find the top 3 station pairs for weekday & weekend\n",
    "top_weekday_pair = list(stn_pair_weekdays.head(3).index)\n",
    "top_weekend_pair = list(stn_pair_weekends.head(3).index)\n",
    "\n",
    "# Print out the result\n",
    "print(\"The top 3 frequent stations pairs in weekdays are: {}, {}, and {}.\".format(*top_weekday_pair))\n",
    "print(\"The top 3 frequent stations pairs in weekends are: {}, {}, and {}.\".format(*top_weekend_pair))"
   ]
  },
  {
   "cell_type": "code",
   "execution_count": 35,
   "metadata": {},
   "outputs": [
    {
     "name": "stdout",
     "output_type": "stream",
     "text": [
      "The top 3 stations with highest outflow are: 3199, 3192, and 3186\n",
      "The top 3 stations with highest inflow are: 3199, 3186, and 3192\n"
     ]
    }
   ],
   "source": [
    "# Sort the average in/out flow count of each station\n",
    "average_inflow = dat[['station id', 'in_flow_count']] \\\n",
    "                .groupby(['station id']) \\\n",
    "                .mean() \\\n",
    "                .sort_values(by='in_flow_count', ascending=False)\n",
    "average_outflow = dat[['station id', 'out_flow_count']] \\\n",
    "                .groupby(['station id']) \\\n",
    "                .mean() \\\n",
    "                .sort_values(by='out_flow_count', ascending=False)\n",
    "            \n",
    "# List the top 3 stations\n",
    "top_inflow = list(average_inflow.head(3).index)\n",
    "top_outflow = list(average_outflow.head(3).index)\n",
    "\n",
    "# Print out the result\n",
    "print(\"The top 3 stations with highest outflow are: {}, {}, and {}\".format(*top_outflow))\n",
    "print(\"The top 3 stations with highest inflow are: {}, {}, and {}\".format(*top_inflow))"
   ]
  },
  {
   "cell_type": "code",
   "execution_count": 36,
   "metadata": {},
   "outputs": [
    {
     "name": "stdout",
     "output_type": "stream",
     "text": [
      "The most popular station is: 3199\n"
     ]
    }
   ],
   "source": [
    "# Sum up in/out flow at each time station\n",
    "dat['flow_count'] = dat['in_flow_count'] + dat['out_flow_count']\n",
    "\n",
    "# Calculate and sort the average flow count for each station\n",
    "average_flow = dat[['station id', 'flow_count']] \\\n",
    "                .groupby(['station id']) \\\n",
    "                .mean() \\\n",
    "                .sort_values(by='flow_count', ascending=False)\n",
    "            \n",
    "# Find the top 1 station\n",
    "top_flow = list(average_inflow.head(1).index)\n",
    "\n",
    "# Print out the result\n",
    "print(\"The most popular station is: {}\".format(*top_outflow))"
   ]
  },
  {
   "cell_type": "code",
   "execution_count": 37,
   "metadata": {},
   "outputs": [
    {
     "data": {
      "text/plain": [
       "array(['Newport Pkwy'], dtype=object)"
      ]
     },
     "execution_count": 37,
     "metadata": {},
     "output_type": "execute_result"
    }
   ],
   "source": [
    "bikedata[bikedata['start station id'] == 3199]['start station name'].unique()"
   ]
  },
  {
   "cell_type": "code",
   "execution_count": null,
   "metadata": {},
   "outputs": [],
   "source": []
  }
 ],
 "metadata": {
  "kernelspec": {
   "display_name": "Python 3",
   "language": "python",
   "name": "python3"
  },
  "language_info": {
   "codemirror_mode": {
    "name": "ipython",
    "version": 3
   },
   "file_extension": ".py",
   "mimetype": "text/x-python",
   "name": "python",
   "nbconvert_exporter": "python",
   "pygments_lexer": "ipython3",
   "version": "3.6.9"
  }
 },
 "nbformat": 4,
 "nbformat_minor": 2
}
